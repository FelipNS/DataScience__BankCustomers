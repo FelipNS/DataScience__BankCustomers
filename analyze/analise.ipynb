{
 "cells": [
  {
   "cell_type": "markdown",
   "metadata": {},
   "source": [
    "### LOAD DATA BASE"
   ]
  },
  {
   "cell_type": "code",
   "execution_count": null,
   "metadata": {},
   "outputs": [],
   "source": [
    "import pandas as pd\n",
    "import numpy as np"
   ]
  },
  {
   "cell_type": "code",
   "execution_count": null,
   "metadata": {},
   "outputs": [],
   "source": [
    "df = pd.read_csv('BankCustomers.csv', encoding='latin-1')\n",
    "df.head()"
   ]
  },
  {
   "cell_type": "markdown",
   "metadata": {},
   "source": [
    "### DELETING USELESS COLUMNS"
   ]
  },
  {
   "cell_type": "code",
   "execution_count": null,
   "metadata": {},
   "outputs": [],
   "source": [
    "df.drop(['Unnamed: 0', 'CLIENTNUM'], axis=1, inplace=True)\n",
    "df.head()"
   ]
  },
  {
   "cell_type": "markdown",
   "metadata": {},
   "source": [
    "### TREATING NaN VALUES"
   ]
  },
  {
   "cell_type": "code",
   "execution_count": null,
   "metadata": {},
   "outputs": [],
   "source": [
    "df.info()"
   ]
  },
  {
   "cell_type": "markdown",
   "metadata": {},
   "source": [
    "**'Card Category'** column has one NaN value.\n",
    "So, based on **'Card Category'**, **'Annual Salary Range'**, **'Limit'** we let's predict what is the credit card category."
   ]
  },
  {
   "cell_type": "code",
   "execution_count": null,
   "metadata": {},
   "outputs": [],
   "source": [
    "array_card_category = df['Card Category'].to_numpy().tolist()\n",
    "row_idx = array_card_category.index(np.nan)\n",
    "df.loc[row_idx]"
   ]
  },
  {
   "cell_type": "code",
   "execution_count": null,
   "metadata": {},
   "outputs": [],
   "source": [
    "df_to_predict_limit = df[['Card Category', 'Annual Salary Range', 'Limit']].groupby(['Card Category', 'Annual Salary Range']).mean().round(2)\n",
    "df_to_predict_limit"
   ]
  },
  {
   "cell_type": "markdown",
   "metadata": {},
   "source": [
    "We see that with an Annual Salary Range equal to $60K - $80K and Limit equal to $8547, the closest category is **_Blue_**. So, let's update this value."
   ]
  },
  {
   "cell_type": "code",
   "execution_count": null,
   "metadata": {},
   "outputs": [],
   "source": [
    "df.at[row_idx, 'Card Category'] = 'Blue'\n",
    "df.loc[row_idx]"
   ]
  },
  {
   "cell_type": "markdown",
   "metadata": {},
   "source": [
    "### GRAPHICS ANALITICS"
   ]
  },
  {
   "cell_type": "code",
   "execution_count": null,
   "metadata": {},
   "outputs": [],
   "source": [
    "import matplotlib.pyplot as plt\n",
    "import plotly.express as px"
   ]
  },
  {
   "cell_type": "markdown",
   "metadata": {},
   "source": [
    "Customers vs Canceled"
   ]
  },
  {
   "cell_type": "markdown",
   "metadata": {},
   "source": [
    "Let's see the ratio between customers and canceled"
   ]
  },
  {
   "cell_type": "code",
   "execution_count": null,
   "metadata": {},
   "outputs": [],
   "source": [
    "serie_status = df['Category'].value_counts(normalize=True)\n",
    "serie_status"
   ]
  },
  {
   "cell_type": "code",
   "execution_count": null,
   "metadata": {},
   "outputs": [],
   "source": [
    "plt.bar(x=serie_status.index,\n",
    "        height=serie_status*100)\n",
    "plt.title('Customers vs Canceled Ratio')\n",
    "plt.yticks([i for i in range(0, 110, 10)])\n",
    "for i, v in enumerate(serie_status):\n",
    "\tmatch i:\n",
    "\t\tcase 0:\n",
    "\t\t\ty = serie_status.Customers * 100 + 5\n",
    "\t\tcase 1:\n",
    "\t\t\ty = serie_status.Canceled * 100 + 5\n",
    "\tplt.text(x=i, y=y, s=f\"{np.round(v * 100, 2)}%\", \n",
    "\t\thorizontalalignment='center', \n",
    "\t\tverticalalignment='center', \n",
    "\t\tfontdict=dict(fontsize=12)\n",
    "\t\t)\n",
    "plt.show()"
   ]
  },
  {
   "cell_type": "markdown",
   "metadata": {},
   "source": [
    "1º ANALYSIS - Limit comparison"
   ]
  },
  {
   "cell_type": "markdown",
   "metadata": {},
   "source": [
    "We grouped the **limits** and **consumed limits** based **customers type**"
   ]
  },
  {
   "cell_type": "code",
   "execution_count": null,
   "metadata": {},
   "outputs": [],
   "source": [
    "df_client_canceled = df[['Category', 'Limit', 'Consumed Limit']].groupby('Category').mean().round(2).reset_index()\n",
    "df_client_canceled"
   ]
  },
  {
   "cell_type": "code",
   "execution_count": null,
   "metadata": {},
   "outputs": [],
   "source": [
    "idx_limit = np.arange(2)\n",
    "width = 0.35\n",
    "idx_consumed_limit = [i + width for i in idx_limit]\n",
    "fig = plt.figure(figsize=(10, 5))\n",
    "ax = fig.add_axes([0, 0.2, 1, 1])\n",
    "ax.bar(idx_limit, \n",
    "       df_client_canceled['Limit'],\n",
    "       width = width,\n",
    "       align='center',\n",
    "       color = 'gray')\n",
    "ax.bar(idx_consumed_limit, \n",
    "       df_client_canceled['Consumed Limit'],\n",
    "       width = width,\n",
    "       align='center',\n",
    "       color = 'blue')\n",
    "\n",
    "ax.set_ylabel('Limit ($)')\n",
    "ax.set_xlabel('Current Status')\n",
    "ax.set_xticks(idx_limit + width / 2, df_client_canceled.Category)\n",
    "\n",
    "for p in ax.patches:\n",
    "       height = p.get_height()\n",
    "       ax.text(p.get_x() + p.get_width() / 2,\n",
    "       height + 100,\n",
    "       f'${height:1.2f}',\n",
    "       ha='center',\n",
    "       fontdict=dict(fontsize=12))\n",
    "       \n",
    "legends = df_client_canceled.drop('Category', axis=1).columns.tolist()\n",
    "legends.reverse()\n",
    "ax.legend(labels=legends)\n",
    "plt.show()"
   ]
  },
  {
   "cell_type": "markdown",
   "metadata": {},
   "source": [
    "We can see that the limit is probably not a reason to cancel the account. So let's see the others params."
   ]
  },
  {
   "cell_type": "code",
   "execution_count": null,
   "metadata": {},
   "outputs": [],
   "source": [
    "for col in df.columns: \n",
    "    graph = px.histogram(df,\n",
    "                         x=col,\n",
    "                         color='Category')\n",
    "    graph.show()"
   ]
  },
  {
   "cell_type": "markdown",
   "metadata": {},
   "source": [
    "# CONCLUSION"
   ]
  },
  {
   "cell_type": "markdown",
   "metadata": {},
   "source": [
    "**1º Insight - Focus in Blue Card**\n",
    "\n",
    "As we can see in the chart, most custormes have a Blue Card."
   ]
  },
  {
   "cell_type": "code",
   "execution_count": null,
   "metadata": {},
   "outputs": [],
   "source": [
    "graph = px.histogram(df,\n",
    "                     x='Card Category',\n",
    "                     color='Category')\n",
    "graph.show()"
   ]
  },
  {
   "cell_type": "markdown",
   "metadata": {},
   "source": [
    "**2º Insight - The more contact, the more chance to cancel the card**\n",
    "\n",
    "- When the customers doesn't contact the chance of canceling the card is practically 0%.\n",
    "- Whereas when he makes 3+ contacts the chance of canceling the card is from 25%.\n",
    "- And when he makes 6+ contacts the chance of canceling the card is 100%."
   ]
  },
  {
   "cell_type": "code",
   "execution_count": null,
   "metadata": {},
   "outputs": [],
   "source": [
    "graph = px.histogram(df,\n",
    "                     x='Contacts 12m',\n",
    "                     color='Category')\n",
    "graph.show()"
   ]
  },
  {
   "cell_type": "markdown",
   "metadata": {},
   "source": [
    "**3º Insight - Customers with low transactions quantitys or low transactions values tend to cancel their card**\n",
    "\n",
    "- Customers who transact less than $3.000,00 in the last 12 months are more likely to cancel their card.\n",
    "- Customers who have made fewer than 60 transactions in the last 12 months are more likely to cancel their card.\n"
   ]
  },
  {
   "cell_type": "code",
   "execution_count": null,
   "metadata": {},
   "outputs": [],
   "source": [
    "for col in ['Valor Transactions 12m', 'Qty of Transactions 12m']:\n",
    "    graph = px.histogram(df,\n",
    "                        x=col,\n",
    "                        color='Category')\n",
    "    graph.show()"
   ]
  }
 ],
 "metadata": {
  "interpreter": {
   "hash": "cfcfbbd76e88e95dc35e2ca9edf0c1e882d0553cc29bc4cac8c0f4eabeb0ecb9"
  },
  "kernelspec": {
   "display_name": "Python 3.10.2 64-bit",
   "language": "python",
   "name": "python3"
  },
  "language_info": {
   "codemirror_mode": {
    "name": "ipython",
    "version": 3
   },
   "file_extension": ".py",
   "mimetype": "text/x-python",
   "name": "python",
   "nbconvert_exporter": "python",
   "pygments_lexer": "ipython3",
   "version": "3.10.2"
  },
  "orig_nbformat": 4
 },
 "nbformat": 4,
 "nbformat_minor": 2
}
